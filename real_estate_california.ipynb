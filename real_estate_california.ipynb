{
 "cells": [
  {
   "cell_type": "markdown",
   "id": "GEqQaHzsZ_bA",
   "metadata": {
    "id": "GEqQaHzsZ_bA"
   },
   "source": [
    "## Предсказание стоимости жилья\n",
    "\n",
    "**Цель и задача:**\n",
    "В проекте нужно обучить модель линейной регрессии на данных о жилье в Калифорнии в 1990 году. На основе данных нужно предсказать медианную стоимость дома в жилом массиве. Обучите модель и сделайте предсказания на тестовой выборке. Для оценки качества модели используйте метрики RMSE, MAE и R2.\n",
    "\n",
    "**Описание данных** на входе 1 датасет `/datasets/housing.csv`.\n",
    "\n",
    "`longitude` — широта;\n",
    "`latitude` — долгота;\n",
    "`housing_median_age` — медианный возраст жителей жилого массива;\n",
    "`total_rooms` — общее количество комнат в домах жилого массива;\n",
    "`total_bedrooms` — общее количество спален в домах жилого массива;\n",
    "`population` — количество человек, которые проживают в жилом массиве;\n",
    "`households` — количество домовладений в жилом массиве;\n",
    "`median_income` — медианный доход жителей жилого массива;\n",
    "`median_house_value` — медианная стоимость дома в жилом массиве;\n",
    "`ocean_proximity` — близость к океану.\n",
    "\n",
    "**План проекта**\n",
    "\n",
    "1. [Подготовка данных](#1)\n",
    "2. [Обучение модели](#2)\n",
    "3. [Анализ результатов](#3)"
   ]
  },
  {
   "cell_type": "code",
   "execution_count": 1,
   "id": "3de7ec8f",
   "metadata": {},
   "outputs": [],
   "source": [
    "import os\n",
    "\n",
    "import pandas as pd \n",
    "import numpy as np\n",
    "\n",
    "import matplotlib.pyplot as plt\n",
    "import seaborn as sns\n",
    "\n",
    "\n",
    "import pyspark\n",
    "from pyspark.sql import SparkSession, DataFrame\n",
    "from pyspark.sql.types import *\n",
    "import pyspark.sql.functions as F\n",
    "\n",
    "from pyspark.ml import Pipeline\n",
    "from pyspark.ml.feature import StringIndexer, OneHotEncoder, VectorAssembler, StandardScaler\n",
    "from pyspark.ml.regression import LinearRegression\n",
    "from pyspark.ml.evaluation import RegressionEvaluator\n",
    "from pyspark.ml.tuning import CrossValidator, ParamGridBuilder\n",
    "\n",
    "from pyspark.sql.functions import col, sum as _sum\n",
    "from functools import reduce\n",
    "\n",
    "from pyspark.ml.feature import VectorAssembler\n",
    "from pyspark.ml.stat import Correlation"
   ]
  },
  {
   "cell_type": "code",
   "execution_count": 2,
   "id": "fd47e825",
   "metadata": {},
   "outputs": [],
   "source": [
    "pd.set_option('display.max_columns', None)\n",
    "pd.set_option('display.float_format', '{:.4f}'.format)\n",
    "%matplotlib inline"
   ]
  },
  {
   "cell_type": "markdown",
   "id": "53871372",
   "metadata": {
    "id": "53871372"
   },
   "source": [
    "# Подготовка данных <a id='1'></a>"
   ]
  },
  {
   "cell_type": "markdown",
   "id": "a46bec50",
   "metadata": {
    "id": "df92e3ec"
   },
   "source": [
    "Инициализируйте локальную Spark-сессию."
   ]
  },
  {
   "cell_type": "code",
   "execution_count": 3,
   "id": "e3851083",
   "metadata": {
    "scrolled": true
   },
   "outputs": [],
   "source": [
    "spark = SparkSession.builder \\\n",
    "                    .master(\"local\") \\\n",
    "                    .appName(\"Housing data in California in 1990\") \\\n",
    "                    .getOrCreate()"
   ]
  },
  {
   "cell_type": "markdown",
   "id": "8ba877a7",
   "metadata": {},
   "source": [
    "Прочитайте содержимое файла /datasets/housing.csv."
   ]
  },
  {
   "cell_type": "code",
   "execution_count": 4,
   "id": "396dfb89",
   "metadata": {},
   "outputs": [
    {
     "name": "stderr",
     "output_type": "stream",
     "text": [
      "                                                                                \r"
     ]
    }
   ],
   "source": [
    "pth1 = '/datasets/housing.csv'\n",
    "\n",
    "    \n",
    "    \n",
    "if (os.path.exists(pth1)):\n",
    "    df = spark.read.option('header', 'true').csv('/datasets/housing.csv', inferSchema = True) \n",
    "else:\n",
    "    print('Error Data path')"
   ]
  },
  {
   "cell_type": "code",
   "execution_count": 5,
   "id": "9c35fc53",
   "metadata": {},
   "outputs": [],
   "source": [
    "def info_df(data):\n",
    "    display(data.printSchema())\n",
    "    display(data.show())\n",
    "    display(data.describe().toPandas())"
   ]
  },
  {
   "cell_type": "code",
   "execution_count": 6,
   "id": "b7613257",
   "metadata": {},
   "outputs": [
    {
     "name": "stdout",
     "output_type": "stream",
     "text": [
      "root\n",
      " |-- longitude: double (nullable = true)\n",
      " |-- latitude: double (nullable = true)\n",
      " |-- housing_median_age: double (nullable = true)\n",
      " |-- total_rooms: double (nullable = true)\n",
      " |-- total_bedrooms: double (nullable = true)\n",
      " |-- population: double (nullable = true)\n",
      " |-- households: double (nullable = true)\n",
      " |-- median_income: double (nullable = true)\n",
      " |-- median_house_value: double (nullable = true)\n",
      " |-- ocean_proximity: string (nullable = true)\n",
      "\n"
     ]
    },
    {
     "data": {
      "text/plain": [
       "None"
      ]
     },
     "metadata": {},
     "output_type": "display_data"
    },
    {
     "name": "stdout",
     "output_type": "stream",
     "text": [
      "+---------+--------+------------------+-----------+--------------+----------+----------+-------------+------------------+---------------+\n",
      "|longitude|latitude|housing_median_age|total_rooms|total_bedrooms|population|households|median_income|median_house_value|ocean_proximity|\n",
      "+---------+--------+------------------+-----------+--------------+----------+----------+-------------+------------------+---------------+\n",
      "|  -122.23|   37.88|              41.0|      880.0|         129.0|     322.0|     126.0|       8.3252|          452600.0|       NEAR BAY|\n",
      "|  -122.22|   37.86|              21.0|     7099.0|        1106.0|    2401.0|    1138.0|       8.3014|          358500.0|       NEAR BAY|\n",
      "|  -122.24|   37.85|              52.0|     1467.0|         190.0|     496.0|     177.0|       7.2574|          352100.0|       NEAR BAY|\n",
      "|  -122.25|   37.85|              52.0|     1274.0|         235.0|     558.0|     219.0|       5.6431|          341300.0|       NEAR BAY|\n",
      "|  -122.25|   37.85|              52.0|     1627.0|         280.0|     565.0|     259.0|       3.8462|          342200.0|       NEAR BAY|\n",
      "|  -122.25|   37.85|              52.0|      919.0|         213.0|     413.0|     193.0|       4.0368|          269700.0|       NEAR BAY|\n",
      "|  -122.25|   37.84|              52.0|     2535.0|         489.0|    1094.0|     514.0|       3.6591|          299200.0|       NEAR BAY|\n",
      "|  -122.25|   37.84|              52.0|     3104.0|         687.0|    1157.0|     647.0|         3.12|          241400.0|       NEAR BAY|\n",
      "|  -122.26|   37.84|              42.0|     2555.0|         665.0|    1206.0|     595.0|       2.0804|          226700.0|       NEAR BAY|\n",
      "|  -122.25|   37.84|              52.0|     3549.0|         707.0|    1551.0|     714.0|       3.6912|          261100.0|       NEAR BAY|\n",
      "|  -122.26|   37.85|              52.0|     2202.0|         434.0|     910.0|     402.0|       3.2031|          281500.0|       NEAR BAY|\n",
      "|  -122.26|   37.85|              52.0|     3503.0|         752.0|    1504.0|     734.0|       3.2705|          241800.0|       NEAR BAY|\n",
      "|  -122.26|   37.85|              52.0|     2491.0|         474.0|    1098.0|     468.0|        3.075|          213500.0|       NEAR BAY|\n",
      "|  -122.26|   37.84|              52.0|      696.0|         191.0|     345.0|     174.0|       2.6736|          191300.0|       NEAR BAY|\n",
      "|  -122.26|   37.85|              52.0|     2643.0|         626.0|    1212.0|     620.0|       1.9167|          159200.0|       NEAR BAY|\n",
      "|  -122.26|   37.85|              50.0|     1120.0|         283.0|     697.0|     264.0|        2.125|          140000.0|       NEAR BAY|\n",
      "|  -122.27|   37.85|              52.0|     1966.0|         347.0|     793.0|     331.0|        2.775|          152500.0|       NEAR BAY|\n",
      "|  -122.27|   37.85|              52.0|     1228.0|         293.0|     648.0|     303.0|       2.1202|          155500.0|       NEAR BAY|\n",
      "|  -122.26|   37.84|              50.0|     2239.0|         455.0|     990.0|     419.0|       1.9911|          158700.0|       NEAR BAY|\n",
      "|  -122.27|   37.84|              52.0|     1503.0|         298.0|     690.0|     275.0|       2.6033|          162900.0|       NEAR BAY|\n",
      "+---------+--------+------------------+-----------+--------------+----------+----------+-------------+------------------+---------------+\n",
      "only showing top 20 rows\n",
      "\n"
     ]
    },
    {
     "data": {
      "text/plain": [
       "None"
      ]
     },
     "metadata": {},
     "output_type": "display_data"
    },
    {
     "name": "stderr",
     "output_type": "stream",
     "text": [
      "                                                                                \r"
     ]
    },
    {
     "data": {
      "text/html": [
       "<div>\n",
       "<style scoped>\n",
       "    .dataframe tbody tr th:only-of-type {\n",
       "        vertical-align: middle;\n",
       "    }\n",
       "\n",
       "    .dataframe tbody tr th {\n",
       "        vertical-align: top;\n",
       "    }\n",
       "\n",
       "    .dataframe thead th {\n",
       "        text-align: right;\n",
       "    }\n",
       "</style>\n",
       "<table border=\"1\" class=\"dataframe\">\n",
       "  <thead>\n",
       "    <tr style=\"text-align: right;\">\n",
       "      <th></th>\n",
       "      <th>summary</th>\n",
       "      <th>longitude</th>\n",
       "      <th>latitude</th>\n",
       "      <th>housing_median_age</th>\n",
       "      <th>total_rooms</th>\n",
       "      <th>total_bedrooms</th>\n",
       "      <th>population</th>\n",
       "      <th>households</th>\n",
       "      <th>median_income</th>\n",
       "      <th>median_house_value</th>\n",
       "      <th>ocean_proximity</th>\n",
       "    </tr>\n",
       "  </thead>\n",
       "  <tbody>\n",
       "    <tr>\n",
       "      <th>0</th>\n",
       "      <td>count</td>\n",
       "      <td>20640</td>\n",
       "      <td>20640</td>\n",
       "      <td>20640</td>\n",
       "      <td>20640</td>\n",
       "      <td>20433</td>\n",
       "      <td>20640</td>\n",
       "      <td>20640</td>\n",
       "      <td>20640</td>\n",
       "      <td>20640</td>\n",
       "      <td>20640</td>\n",
       "    </tr>\n",
       "    <tr>\n",
       "      <th>1</th>\n",
       "      <td>mean</td>\n",
       "      <td>-119.56970445736148</td>\n",
       "      <td>35.6318614341087</td>\n",
       "      <td>28.639486434108527</td>\n",
       "      <td>2635.7630813953488</td>\n",
       "      <td>537.8705525375618</td>\n",
       "      <td>1425.4767441860465</td>\n",
       "      <td>499.5396802325581</td>\n",
       "      <td>3.8706710029070246</td>\n",
       "      <td>206855.81690891474</td>\n",
       "      <td>None</td>\n",
       "    </tr>\n",
       "    <tr>\n",
       "      <th>2</th>\n",
       "      <td>stddev</td>\n",
       "      <td>2.003531723502584</td>\n",
       "      <td>2.135952397457101</td>\n",
       "      <td>12.58555761211163</td>\n",
       "      <td>2181.6152515827944</td>\n",
       "      <td>421.38507007403115</td>\n",
       "      <td>1132.46212176534</td>\n",
       "      <td>382.3297528316098</td>\n",
       "      <td>1.899821717945263</td>\n",
       "      <td>115395.61587441359</td>\n",
       "      <td>None</td>\n",
       "    </tr>\n",
       "    <tr>\n",
       "      <th>3</th>\n",
       "      <td>min</td>\n",
       "      <td>-124.35</td>\n",
       "      <td>32.54</td>\n",
       "      <td>1.0</td>\n",
       "      <td>2.0</td>\n",
       "      <td>1.0</td>\n",
       "      <td>3.0</td>\n",
       "      <td>1.0</td>\n",
       "      <td>0.4999</td>\n",
       "      <td>14999.0</td>\n",
       "      <td>&lt;1H OCEAN</td>\n",
       "    </tr>\n",
       "    <tr>\n",
       "      <th>4</th>\n",
       "      <td>max</td>\n",
       "      <td>-114.31</td>\n",
       "      <td>41.95</td>\n",
       "      <td>52.0</td>\n",
       "      <td>39320.0</td>\n",
       "      <td>6445.0</td>\n",
       "      <td>35682.0</td>\n",
       "      <td>6082.0</td>\n",
       "      <td>15.0001</td>\n",
       "      <td>500001.0</td>\n",
       "      <td>NEAR OCEAN</td>\n",
       "    </tr>\n",
       "  </tbody>\n",
       "</table>\n",
       "</div>"
      ],
      "text/plain": [
       "  summary            longitude           latitude  housing_median_age  \\\n",
       "0   count                20640              20640               20640   \n",
       "1    mean  -119.56970445736148   35.6318614341087  28.639486434108527   \n",
       "2  stddev    2.003531723502584  2.135952397457101   12.58555761211163   \n",
       "3     min              -124.35              32.54                 1.0   \n",
       "4     max              -114.31              41.95                52.0   \n",
       "\n",
       "          total_rooms      total_bedrooms          population  \\\n",
       "0               20640               20433               20640   \n",
       "1  2635.7630813953488   537.8705525375618  1425.4767441860465   \n",
       "2  2181.6152515827944  421.38507007403115    1132.46212176534   \n",
       "3                 2.0                 1.0                 3.0   \n",
       "4             39320.0              6445.0             35682.0   \n",
       "\n",
       "          households       median_income  median_house_value ocean_proximity  \n",
       "0              20640               20640               20640           20640  \n",
       "1  499.5396802325581  3.8706710029070246  206855.81690891474            None  \n",
       "2  382.3297528316098   1.899821717945263  115395.61587441359            None  \n",
       "3                1.0              0.4999             14999.0       <1H OCEAN  \n",
       "4             6082.0             15.0001            500001.0      NEAR OCEAN  "
      ]
     },
     "metadata": {},
     "output_type": "display_data"
    }
   ],
   "source": [
    "info_df(df)"
   ]
  },
  {
   "cell_type": "markdown",
   "id": "80cd1e7e",
   "metadata": {},
   "source": [
    "В датасете 20640 записей. В колонке total_bedrooms\tприсутствуют пропуски. Стиилистика названий является допустимой. 9 столбцлов - количественный, `ocean_proximity` является единственным категориальным."
   ]
  },
  {
   "cell_type": "markdown",
   "id": "0fe74e18",
   "metadata": {},
   "source": [
    "Посмотрю на наличие дубликатов и пропусков. Но для начала запишу количество записей в датасете."
   ]
  },
  {
   "cell_type": "code",
   "execution_count": 7,
   "id": "c744d802",
   "metadata": {},
   "outputs": [
    {
     "name": "stdout",
     "output_type": "stream",
     "text": [
      "Количество строк в DataFrame: 20640\n"
     ]
    }
   ],
   "source": [
    "num_rows = df.count()\n",
    "print(f\"Количество строк в DataFrame: {num_rows}\")"
   ]
  },
  {
   "cell_type": "code",
   "execution_count": 8,
   "id": "2b251d13",
   "metadata": {},
   "outputs": [],
   "source": [
    "def find_duplicates_info(data: DataFrame):\n",
    "    \n",
    "    duplicate_rows = data.dropDuplicates()\n",
    "\n",
    "    num_duplicates = num_rows - duplicate_rows.count()\n",
    "    percentage_duplicates = (num_duplicates / num_rows) * 100\n",
    "\n",
    "    # Выводим результат\n",
    "    print(f\"Количество дубликатов в DataFrame: {num_duplicates}\")\n",
    "    print(f\"Процент дубликатов от общего числа строк: {percentage_duplicates:.2f}%\")"
   ]
  },
  {
   "cell_type": "code",
   "execution_count": 9,
   "id": "8f355efb",
   "metadata": {},
   "outputs": [
    {
     "name": "stderr",
     "output_type": "stream",
     "text": [
      "[Stage 8:======================================================>(199 + 1) / 200]\r"
     ]
    },
    {
     "name": "stdout",
     "output_type": "stream",
     "text": [
      "Количество дубликатов в DataFrame: 0\n",
      "Процент дубликатов от общего числа строк: 0.00%\n"
     ]
    },
    {
     "name": "stderr",
     "output_type": "stream",
     "text": [
      "                                                                                \r"
     ]
    }
   ],
   "source": [
    "find_duplicates_info(df)"
   ]
  },
  {
   "cell_type": "markdown",
   "id": "07fb7443",
   "metadata": {},
   "source": [
    "Явные дубликаты отсутствуют. Теперь посмотрю на пропуски."
   ]
  },
  {
   "cell_type": "code",
   "execution_count": 10,
   "id": "57688d9a",
   "metadata": {},
   "outputs": [],
   "source": [
    "def count_missing_values(data: DataFrame):\n",
    "    # Считаем количество строк в DataFrame\n",
    "    total_rows = data.count()\n",
    "    \n",
    "    # Считаем количество пропусков в каждом столбце\n",
    "    missing_counts = data.select([_sum(col(column).isNull().cast(\"int\")).alias(column) for column in data.columns]).collect()[0]\n",
    "    \n",
    "    # Выводим количество пропусков и процентное соотношение в каждом столбце\n",
    "    for column, count in missing_counts.asDict().items():\n",
    "        percentage = (count / total_rows) * 100\n",
    "        print(f\"Количество пропусков в столбце '{column}': {count} ({percentage:.2f}%)\")"
   ]
  },
  {
   "cell_type": "code",
   "execution_count": 11,
   "id": "8a296cee",
   "metadata": {},
   "outputs": [
    {
     "name": "stdout",
     "output_type": "stream",
     "text": [
      "Количество пропусков в столбце 'longitude': 0 (0.00%)\n",
      "Количество пропусков в столбце 'latitude': 0 (0.00%)\n",
      "Количество пропусков в столбце 'housing_median_age': 0 (0.00%)\n",
      "Количество пропусков в столбце 'total_rooms': 0 (0.00%)\n",
      "Количество пропусков в столбце 'total_bedrooms': 207 (1.00%)\n",
      "Количество пропусков в столбце 'population': 0 (0.00%)\n",
      "Количество пропусков в столбце 'households': 0 (0.00%)\n",
      "Количество пропусков в столбце 'median_income': 0 (0.00%)\n",
      "Количество пропусков в столбце 'median_house_value': 0 (0.00%)\n",
      "Количество пропусков в столбце 'ocean_proximity': 0 (0.00%)\n"
     ]
    }
   ],
   "source": [
    "count_missing_values(df)"
   ]
  },
  {
   "cell_type": "markdown",
   "id": "62afa508",
   "metadata": {},
   "source": [
    "Вижу, что в `total_bedrooms` присутствуют 207 пропусков, всего 1%. При этом количество строк в датасете 20640. Удалю строки с пропусками."
   ]
  },
  {
   "cell_type": "code",
   "execution_count": 12,
   "id": "feba1f1d",
   "metadata": {},
   "outputs": [],
   "source": [
    "df = df.dropna()"
   ]
  },
  {
   "cell_type": "markdown",
   "id": "01400595",
   "metadata": {},
   "source": [
    "Далее для количественных столбоцов построю гистограммы с боксплтами, для категориального - столбчатую диаграмму."
   ]
  },
  {
   "cell_type": "code",
   "execution_count": 13,
   "id": "8b2fdf06",
   "metadata": {},
   "outputs": [],
   "source": [
    "class DataVisualizer:\n",
    "    def __init__(self, dataframe: DataFrame):\n",
    "        self.dataframe = dataframe\n",
    "        self.pandas_df = dataframe.toPandas()  # Преобразование DataFrame PySpark в Pandas DataFrame\n",
    "        self.quantitative_columns = [col for col, dtype in dataframe.dtypes if dtype != 'string']\n",
    "        self.categorical_columns = [col for col, dtype in dataframe.dtypes if dtype == 'string']\n",
    "\n",
    "    def plot_quantitative(self):\n",
    "        num_columns = len(self.quantitative_columns)\n",
    "        rows = (num_columns + 2) // 3  # Определяем количество рядов, чтобы разместить по 3 графика в ряд\n",
    "        fig, axs = plt.subplots(rows * 2, 3, figsize=(20, 5 * rows), gridspec_kw={'height_ratios': [0.5, 1.5] * rows})\n",
    "\n",
    "        for i, column in enumerate(self.quantitative_columns):\n",
    "            row = i // 3\n",
    "            col = i % 3\n",
    "            \n",
    "            axs[row * 2, col].boxplot(self.pandas_df[column], vert=False)\n",
    "            axs[row * 2, col].set_yticks([])\n",
    "            axs[row * 2, col].set_xticks([])\n",
    "        \n",
    "            sns.histplot(self.pandas_df[column], ax=axs[row * 2 + 1, col], bins=15, kde=False, stat='density', common_norm=False)\n",
    "            axs[row * 2 + 1, col].set_title(f'Гистограмма {column}')\n",
    "            axs[row * 2 + 1, col].set_ylabel('Плотность')\n",
    "        \n",
    "        for j in range(num_columns, rows * 3):\n",
    "            fig.delaxes(axs[(j // 3) * 2, j % 3])\n",
    "            fig.delaxes(axs[(j // 3) * 2 + 1, j % 3])\n",
    "\n",
    "        plt.tight_layout()\n",
    "        fig.suptitle('Распределение количественных признаков', fontsize=16)\n",
    "        plt.subplots_adjust(top=0.95)\n",
    "        plt.show()\n",
    "\n",
    "    def plot_categorical(self):\n",
    "        for column in self.categorical_columns:\n",
    "            plt.figure(figsize=(10, 7))\n",
    "            sns.countplot(x=self.pandas_df[column])\n",
    "            plt.title(f'Распределение категориального признака {column}')\n",
    "            plt.xlabel(column)\n",
    "            plt.ylabel('Количество')\n",
    "        plt.show()\n",
    "\n",
    "    def plot_correlation_heatmap(self):\n",
    "\n",
    "        assembler = VectorAssembler(inputCols=self.quantitative_columns, outputCol=\"features\")\n",
    "        df_vectorized = assembler.transform(self.dataframe).select(\"features\")\n",
    "        \n",
    "        corr_matrix = Correlation.corr(df_vectorized, \"features\").head()[0]\n",
    "        corr_matrix = corr_matrix.toArray()\n",
    "\n",
    "        corr_df = pd.DataFrame(corr_matrix, columns=self.quantitative_columns, index=self.quantitative_columns)\n",
    "        plt.figure(figsize=(10, 8))\n",
    "        sns.heatmap(corr_df, annot=True, cmap=\"coolwarm\", vmin=-1, vmax=1)\n",
    "        plt.title('Тепловая карта корреляций числовых признаков')\n",
    "        plt.show()\n",
    "\n",
    "    def visualize(self):\n",
    "        if self.quantitative_columns:\n",
    "            self.plot_quantitative()\n",
    "        if self.categorical_columns:\n",
    "            self.plot_categorical()\n",
    "        if self.quantitative_columns:\n",
    "            self.plot_correlation_heatmap()"
   ]
  },
  {
   "cell_type": "code",
   "execution_count": 14,
   "id": "1708fa6f",
   "metadata": {
    "scrolled": false
   },
   "outputs": [
    {
     "data": {
      "image/png": "[encoded data removed]",
      "text/plain": [
       "<Figure size 720x504 with 1 Axes>"
      ]
     },
     "metadata": {
      "needs_background": "light"
     },
     "output_type": "display_data"
    }
   ],
   "source": [
    "visualizer = DataVisualizer(df)\n",
    "visualizer.plot_categorical()"
   ]
  },
  {
   "cell_type": "markdown",
   "id": "a54cb8a8",
   "metadata": {},
   "source": [
    "Большинств жилья находится в пределах `<1H OCEAN`  и на материке."
   ]
  },
  {
   "cell_type": "code",
   "execution_count": 15,
   "id": "dd1aff6f",
   "metadata": {},
   "outputs": [
    {
     "data": {
      "image/png": "[encoded data removed]",
      "text/plain": [
       "<Figure size 1440x1080 with 18 Axes>"
      ]
     },
     "metadata": {
      "needs_background": "light"
     },
     "output_type": "display_data"
    }
   ],
   "source": [
    "visualizer.plot_quantitative()"
   ]
  },
  {
   "cell_type": "markdown",
   "id": "bc4cd66b",
   "metadata": {},
   "source": [
    "Вижу, что в `total_rooms`, `total_bedrooms`, `population`, `households`, `median_income`, `median_house_value` присутствуют выбросы. Они находятся за пределом верхнего порога, удалю их."
   ]
  },
  {
   "cell_type": "code",
   "execution_count": 16,
   "id": "e12fb5d2",
   "metadata": {},
   "outputs": [],
   "source": [
    "class OutlierHandler:\n",
    "    def __init__(self, dataframe):\n",
    "        self.dataframe = dataframe\n",
    "        self.total_rows = num_rows\n",
    "        \n",
    "    def count_outliers(self, columns, multiplier=2.5):\n",
    "        outliers_counts = {}\n",
    "        \n",
    "        for col_name in columns:\n",
    "\n",
    "            q3 = self.dataframe.approxQuantile(col_name, [0.75], 0.05)[0]\n",
    "            upper_bound = q3 + multiplier * (q3 - self.dataframe.approxQuantile(col_name, [0.25], 0.05)[0])\n",
    "            \n",
    "            outliers_count = self.dataframe.filter(col(col_name) > upper_bound).count()\n",
    "            outliers_counts[col_name] = outliers_count\n",
    "            \n",
    "            outliers_percentage = (outliers_count / self.total_rows) * 100\n",
    "            print(f\"Количество выбросов в столбце '{col_name}': {outliers_count}, Процент выбросов: {outliers_percentage:.2f}%\")\n",
    "        \n",
    "        return outliers_counts\n",
    "    \n",
    "    def remove_outliers(self, columns, multiplier=2.5):\n",
    "        filtered_df = self.dataframe\n",
    "        \n",
    "        for col_name in columns:\n",
    "\n",
    "            q3 = filtered_df.approxQuantile(col_name, [0.75], 0.05)[0]\n",
    "            upper_bound = q3 + multiplier * (q3 - filtered_df.approxQuantile(col_name, [0.25], 0.05)[0])\n",
    "            filtered_df = filtered_df.filter(col(col_name) <= upper_bound)\n",
    "        \n",
    "        return filtered_df"
   ]
  },
  {
   "cell_type": "code",
   "execution_count": 17,
   "id": "23ce0201",
   "metadata": {},
   "outputs": [
    {
     "name": "stdout",
     "output_type": "stream",
     "text": [
      "Количество выбросов в столбце 'total_rooms': 856, Процент выбросов: 4.15%\n",
      "Количество выбросов в столбце 'total_bedrooms': 823, Процент выбросов: 3.99%\n",
      "Количество выбросов в столбце 'population': 765, Процент выбросов: 3.71%\n",
      "Количество выбросов в столбце 'households': 777, Процент выбросов: 3.76%\n",
      "Количество выбросов в столбце 'median_income': 354, Процент выбросов: 1.72%\n",
      "Количество выбросов в столбце 'median_house_value': 0, Процент выбросов: 0.00%\n",
      "\n",
      "\n"
     ]
    }
   ],
   "source": [
    "handler = OutlierHandler(df)\n",
    "\n",
    "outliers_counts = handler.count_outliers(['total_rooms', 'total_bedrooms', \n",
    "                                          'population', 'households', 'median_income', 'median_house_value'])\n",
    "print(\"\\n\")"
   ]
  },
  {
   "cell_type": "markdown",
   "id": "99ceaafa",
   "metadata": {},
   "source": [
    "В среднем, количестесво выбросов составляют около 5% и не превышают более 10%. Здесь лучше использовать менее строгий критерий для оценивания выбросов, тк под удаление может уйти более 10% от общего числа строк."
   ]
  },
  {
   "cell_type": "code",
   "execution_count": 18,
   "id": "6d62d952",
   "metadata": {},
   "outputs": [],
   "source": [
    "df = handler.remove_outliers(['total_rooms', 'total_bedrooms',\n",
    "                              'population', 'households', 'median_income', 'median_house_value'])"
   ]
  },
  {
   "cell_type": "markdown",
   "id": "9fd43649",
   "metadata": {},
   "source": [
    "Теперь посмотрю, как коррелируют между собой признаки."
   ]
  },
  {
   "cell_type": "code",
   "execution_count": 19,
   "id": "bceb88ce",
   "metadata": {},
   "outputs": [
    {
     "name": "stderr",
     "output_type": "stream",
     "text": [
      "24/07/04 09:20:22 WARN BLAS: Failed to load implementation from: com.github.fommil.netlib.NativeSystemBLAS\n",
      "24/07/04 09:20:22 WARN BLAS: Failed to load implementation from: com.github.fommil.netlib.NativeRefBLAS\n",
      "                                                                                \r"
     ]
    },
    {
     "data": {
      "image/png": "[encoded data removed]",
      "text/plain": [
       "<Figure size 720x576 with 2 Axes>"
      ]
     },
     "metadata": {
      "needs_background": "light"
     },
     "output_type": "display_data"
    }
   ],
   "source": [
    "visualizer.plot_correlation_heatmap()"
   ]
  },
  {
   "cell_type": "markdown",
   "id": "857423f6",
   "metadata": {},
   "source": [
    "- Вижу, что `total_rooms`, `total_bedrooms`, `population`, `households` имеют силную корреляцию между собой, то есть присутствует мультикоррелиарность. Также присутствует связб между `longitude` и `latitude`. Имеет смысл на этапе обучения модели  использовать регуляризацию.\n",
    "- Есть связь между таргетом и `median_income`."
   ]
  },
  {
   "cell_type": "markdown",
   "id": "5bef6d88",
   "metadata": {},
   "source": [
    "## Выводы\n",
    "\n",
    "На данном этапе сделала следующие шаги:\n",
    "1. Ознакомилась с данными. В столбце `total_bedrooms` были пропуски, мною было принято решение удалить их. Дубликаты отсутствовали. \n",
    "2. В колонках `total_rooms`, `total_bedrooms`, `population`, `households`, `median_income`, `median_house_value` были выбросы d верхней границе. По итогу количество строк составляет `18624`.\n",
    "3. Признаки `total_rooms`, `total_bedrooms`, `population`, `households` имеют сильную корреляцию между собой на этапе обучения модели использую регуляризацию, чтобы уменьшить влияение мультикоррелиарности. "
   ]
  },
  {
   "cell_type": "markdown",
   "id": "9f0a82f3",
   "metadata": {
    "id": "9f0a82f3"
   },
   "source": [
    "# Обучение моделей <a id='2'></a>"
   ]
  },
  {
   "cell_type": "markdown",
   "id": "f90e94e6",
   "metadata": {},
   "source": [
    "Для того, чтобы обучить модель и следует трансформировать количественные и категориальные признаки. Далее буду обучать модель, для ее оценки использую метрики `RMSE`, `MAE` и `R2`. Также по условию нужно сравнить по условию метрики для двух наборов данных: со всеми признаками и только количественные. Ниже класс, который выполняет все казанные шаги. \n",
    "Еще дополнила класс функицией подборки гипперпараметров с использованием кросс-валидации.\n",
    "\n",
    "Класс содержит:\n",
    "- `__init__`: Инициализация класса с DataFrame, категориальными, количественными признаками, таргетом.\n",
    "- `preprocess_data`: Предобработка данных (индексация, One-Hot-Encoding, стандартизация, векторизация и объединение признаков).\n",
    "- `preprocess_numerical_only`: Предобработка данных, только количетсвенные признаки.\n",
    "- `train_linear_regression`: Обучение модели линейной регрессии с использованием регуляризации и расчетом RMSE на тестовой выборке.\n",
    "- `tune_hyperparameters`: Подбор наилучших параметров с использованием кросс-валидации для гиперпараметров regParam, elasticNetParam и maxIter."
   ]
  },
  {
   "cell_type": "code",
   "execution_count": 20,
   "id": "bd909b9c",
   "metadata": {},
   "outputs": [],
   "source": [
    "class DataPreprocessor:\n",
    "    def __init__(self, dataframe, categorical_cols, numerical_cols, label_col):\n",
    "        self.dataframe = dataframe\n",
    "        self.categorical_cols = categorical_cols\n",
    "        self.numerical_cols = numerical_cols\n",
    "        self.label_col = label_col\n",
    "        self.pipeline_model = None\n",
    "        self.transformed_df = None\n",
    "\n",
    "    def preprocess_data(self):\n",
    "        \n",
    "        indexers = [StringIndexer(inputCol=c, outputCol=c+'_idx') for c in self.categorical_cols]\n",
    "        encoders = [OneHotEncoder(inputCol=c+'_idx', outputCol=c+'_ohe') for c in self.categorical_cols]\n",
    "        categorical_assembler = VectorAssembler(inputCols=[c+'_ohe' for c in self.categorical_cols], \n",
    "                                                outputCol='categorical_features')\n",
    "        \n",
    "        numerical_assembler = VectorAssembler(inputCols=self.numerical_cols, outputCol='numerical_features')\n",
    "        standardScaler = StandardScaler(inputCol='numerical_features', outputCol='numerical_features_scaled')\n",
    "        \n",
    "        final_assembler = VectorAssembler(inputCols=['categorical_features', 'numerical_features_scaled'], \n",
    "                                          outputCol='features')\n",
    "        pipeline = Pipeline(stages=indexers + encoders + [categorical_assembler, \n",
    "                                                          numerical_assembler, \n",
    "                                                          standardScaler, \n",
    "                                                          final_assembler])\n",
    "        self.pipeline_model = pipeline.fit(self.dataframe)\n",
    "        self.transformed_df = self.pipeline_model.transform(self.dataframe)\n",
    "        \n",
    "        return self.transformed_df\n",
    "\n",
    "    def preprocess_numerical_only(self):\n",
    "        \n",
    "        numerical_assembler = VectorAssembler(inputCols=self.numerical_cols, outputCol='numerical_features')\n",
    "        standardScaler = StandardScaler(inputCol='numerical_features', outputCol='numerical_features_scaled')\n",
    "        \n",
    "        final_assembler = VectorAssembler(inputCols=['numerical_features_scaled'], outputCol='features')\n",
    "        pipeline = Pipeline(stages=[numerical_assembler, standardScaler, final_assembler])\n",
    "        self.pipeline_model = pipeline.fit(self.dataframe)\n",
    "        self.transformed_df = self.pipeline_model.transform(self.dataframe)\n",
    "        \n",
    "        return self.transformed_df\n",
    "\n",
    "    def train_linear_regression(self, regParam=0.1, elasticNetParam=0.0, maxIter=100):\n",
    "        \n",
    "        train_df, test_df = self.transformed_df.randomSplit([0.8, 0.2], seed=42)\n",
    "        \n",
    "        lr = LinearRegression(featuresCol='features', labelCol=self.label_col, regParam=regParam, \n",
    "                              elasticNetParam=elasticNetParam, maxIter=maxIter)\n",
    "        lr_model = lr.fit(train_df)\n",
    "        \n",
    "        predictions = lr_model.transform(test_df)\n",
    "        evaluator_rmse = RegressionEvaluator(labelCol=self.label_col, predictionCol=\"prediction\", metricName=\"rmse\")\n",
    "        evaluator_mae = RegressionEvaluator(labelCol=self.label_col, predictionCol=\"prediction\", metricName=\"mae\")\n",
    "        evaluator_r2 = RegressionEvaluator(labelCol=self.label_col, predictionCol=\"prediction\", metricName=\"r2\")\n",
    "        rmse = evaluator_rmse.evaluate(predictions)\n",
    "        mae = evaluator_mae.evaluate(predictions)\n",
    "        r2 = evaluator_r2.evaluate(predictions)\n",
    "        \n",
    "        print(f\"RMSE: {rmse}\")\n",
    "        print(f\"MAE: {mae}\")\n",
    "        print(f\"R2: {r2}\")\n",
    "        \n",
    "        return lr_model, rmse, mae, r2\n",
    "\n",
    "    def tune_hyperparameters(self):\n",
    "        \n",
    "        train_df, test_df = self.transformed_df.randomSplit([0.8, 0.2], seed=42)\n",
    "        \n",
    "        lr = LinearRegression(featuresCol='features', labelCol=self.label_col)\n",
    "        \n",
    "        param_grid = ParamGridBuilder() \\\n",
    "            .addGrid(lr.regParam, [0.01, 0.1, 0.5, 1.0]) \\\n",
    "            .addGrid(lr.elasticNetParam, [0.0, 0.5, 1.0]) \\\n",
    "            .addGrid(lr.maxIter, [50, 100, 150]) \\\n",
    "            .build()\n",
    "        evaluator = RegressionEvaluator(labelCol=self.label_col, predictionCol=\"prediction\", metricName=\"rmse\")\n",
    "        crossval = CrossValidator(estimator=lr, estimatorParamMaps=param_grid, evaluator=evaluator, numFolds=5)\n",
    "        cv_model = crossval.fit(train_df)\n",
    "        \n",
    "        best_model = cv_model.bestModel\n",
    "        \n",
    "        predictions = best_model.transform(test_df)\n",
    "        rmse = evaluator.evaluate(predictions)\n",
    "        best_reg_param = best_model._java_obj.getRegParam()\n",
    "        best_elastic_net_param = best_model._java_obj.getElasticNetParam()\n",
    "        best_max_iter = best_model._java_obj.getMaxIter()\n",
    "        print(f\"Best RegParam: {best_reg_param}\")\n",
    "        print(f\"Best ElasticNetParam: {best_elastic_net_param}\")\n",
    "        print(f\"Best MaxIter: {best_max_iter}\")\n",
    "        print(f\"Root Mean Squared Error (RMSE) on test data = {rmse}\")\n",
    "        \n",
    "        return best_model, best_reg_param, best_elastic_net_param, best_max_iter, rmse"
   ]
  },
  {
   "cell_type": "markdown",
   "id": "09ff1f8f",
   "metadata": {},
   "source": [
    "Теперь запишу названия категориальных и количественных колонок."
   ]
  },
  {
   "cell_type": "code",
   "execution_count": 21,
   "id": "69986495",
   "metadata": {},
   "outputs": [],
   "source": [
    "categorical_cols = ['ocean_proximity']\n",
    "numerical_cols  = [\"longitude\", \"latitude\", \"housing_median_age\", \"total_rooms\", \"total_bedrooms\", \"population\",\n",
    "                   \"households\", \"median_income\"]\n",
    "target = \"median_house_value\""
   ]
  },
  {
   "cell_type": "markdown",
   "id": "7caa78da",
   "metadata": {},
   "source": [
    "Для всех признаков получим следующий результат:"
   ]
  },
  {
   "cell_type": "code",
   "execution_count": 22,
   "id": "2dd11e1e",
   "metadata": {
    "scrolled": true
   },
   "outputs": [
    {
     "name": "stderr",
     "output_type": "stream",
     "text": [
      "24/07/04 09:20:31 WARN LAPACK: Failed to load implementation from: com.github.fommil.netlib.NativeSystemLAPACK\n",
      "24/07/04 09:20:31 WARN LAPACK: Failed to load implementation from: com.github.fommil.netlib.NativeRefLAPACK\n",
      "                                                                                \r"
     ]
    },
    {
     "name": "stdout",
     "output_type": "stream",
     "text": [
      "RMSE: 62933.71309744741\n",
      "MAE: 46641.79044501536\n",
      "R2: 0.6672883146757128\n"
     ]
    },
    {
     "name": "stderr",
     "output_type": "stream",
     "text": [
      "                                                                                \r"
     ]
    }
   ],
   "source": [
    "preprocessor = DataPreprocessor(df, categorical_cols=categorical_cols, \n",
    "                                numerical_cols=numerical_cols, \n",
    "                                label_col=target)\n",
    "\n",
    "transformed_df = preprocessor.preprocess_data()\n",
    "lr_model, rmse, mae, r2 = preprocessor.train_linear_regression(regParam=0.1, elasticNetParam=0.0, maxIter=100)"
   ]
  },
  {
   "cell_type": "markdown",
   "id": "dbafb694",
   "metadata": {},
   "source": [
    "Для линейной модели с гипперпарметрами `regParam` 0.1, `elasticNetParam` 0.0, `maxIter` 100\n",
    "\n",
    "Получила следующие результаты:\n",
    "- Модель имеет среднюю ошибку предсказания (`MAE`) примерно 46642.\n",
    "- Среднеквадратичная ошибка (`RMSE`) составляет 62933, что может указывать на существенную дисперсию в предсказаниях модели.\n",
    "- Коэффициент детерминации (`R2`) на уровне 0.667 показывает, что модель объясняет значительную часть изменчивости зависимой переменной, но есть еще место для улучшений."
   ]
  },
  {
   "cell_type": "code",
   "execution_count": 23,
   "id": "058f88ce",
   "metadata": {},
   "outputs": [
    {
     "name": "stderr",
     "output_type": "stream",
     "text": [
      "                                                                                \r"
     ]
    },
    {
     "name": "stdout",
     "output_type": "stream",
     "text": [
      "Best RegParam: 0.5\n",
      "Best ElasticNetParam: 0.0\n",
      "Best MaxIter: 50\n",
      "Root Mean Squared Error (RMSE) on test data = 62933.3359233547\n"
     ]
    },
    {
     "name": "stderr",
     "output_type": "stream",
     "text": [
      "                                                                                \r"
     ]
    }
   ],
   "source": [
    "best_model, best_reg_param, best_elastic_net_param, best_max_iter, rmse = preprocessor.tune_hyperparameters()"
   ]
  },
  {
   "cell_type": "markdown",
   "id": "7750c697",
   "metadata": {},
   "source": [
    "Лучшими парматерами для линейной модели оказались:\n",
    "- `RegParam`: 1.0\n",
    "- `ElasticNetParam`: 0.0\n",
    "- `MaxIter`: 50"
   ]
  },
  {
   "cell_type": "code",
   "execution_count": 24,
   "id": "c879412e",
   "metadata": {},
   "outputs": [
    {
     "name": "stdout",
     "output_type": "stream",
     "text": [
      "RMSE: 63495.82837131296\n",
      "MAE: 47388.020092307976\n",
      "R2: 0.6613183014762671\n"
     ]
    }
   ],
   "source": [
    "numerical_df = preprocessor.preprocess_numerical_only()\n",
    "numerical_lr_model, numerical_rmse, numerical_mae, numerical_r2 = preprocessor.train_linear_regression(regParam=0.1, \n",
    "                                                                                                       elasticNetParam=0.0, \n",
    "                                                                                                       maxIter=100)"
   ]
  },
  {
   "cell_type": "markdown",
   "id": "0279a8ea",
   "metadata": {},
   "source": [
    "Если только присутствуют количественные признаки:\n",
    "- Модель, использующая только числовые признаки, имеет схожие результаты с моделью, использующей все признаки, но с некоторым ухудшением.\n",
    "- Среднеквадратичная ошибка (`RMSE`) составляет примерно 63495, что может указывать на существенную дисперсию в предсказаниях модели.\n",
    "- Средняя абсолютная ошибка (`MAE`) составляет примерно 47388, что является средним значением ошибки предсказания."
   ]
  },
  {
   "cell_type": "markdown",
   "id": "1747b2a5",
   "metadata": {},
   "source": [
    "Теперь посмотрю как изменятся метрики с новыми гипперпараметрами для разных наборов данных."
   ]
  },
  {
   "cell_type": "code",
   "execution_count": 25,
   "id": "27a2ad6f",
   "metadata": {},
   "outputs": [
    {
     "name": "stderr",
     "output_type": "stream",
     "text": [
      "                                                                                \r"
     ]
    },
    {
     "name": "stdout",
     "output_type": "stream",
     "text": [
      "RMSE: 62932.88646155222\n",
      "MAE: 46641.06278761675\n",
      "R2: 0.6672970549709228\n"
     ]
    }
   ],
   "source": [
    "transformed_df = preprocessor.preprocess_data()\n",
    "lr_model, rmse, mae, r2 = preprocessor.train_linear_regression(regParam=1.0, elasticNetParam=0.0, maxIter=50)"
   ]
  },
  {
   "cell_type": "code",
   "execution_count": 26,
   "id": "dfce72d5",
   "metadata": {},
   "outputs": [
    {
     "name": "stderr",
     "output_type": "stream",
     "text": [
      "                                                                                \r"
     ]
    },
    {
     "name": "stdout",
     "output_type": "stream",
     "text": [
      "RMSE: 63500.11315964848\n",
      "MAE: 47383.38124817049\n",
      "R2: 0.6612725904935984\n"
     ]
    }
   ],
   "source": [
    "numerical_df = preprocessor.preprocess_numerical_only()\n",
    "numerical_lr_model, numerical_rmse, numerical_mae, numerical_r2 = preprocessor.train_linear_regression(regParam=0.5, \n",
    "                                                                                                       elasticNetParam=0.5, \n",
    "                                                                                                       maxIter=50)"
   ]
  },
  {
   "cell_type": "markdown",
   "id": "f26e74f4",
   "metadata": {},
   "source": [
    "Результат не сильно отличается от дефолтных гипперпарметров."
   ]
  },
  {
   "cell_type": "code",
   "execution_count": 27,
   "id": "68773407",
   "metadata": {},
   "outputs": [],
   "source": [
    "spark.stop()"
   ]
  },
  {
   "cell_type": "markdown",
   "id": "8de745a8",
   "metadata": {},
   "source": [
    "## Вывод\n",
    "\n",
    "На данном этапе была обучена модель `LinearRegression`. Сравнивала результаты модели (до и после кросс-валидаци)и, обученной на всех признаках и только на числовых признаках, по метрикам `RMSE`, `MAE` и `R2`."
   ]
  },
  {
   "cell_type": "markdown",
   "id": "757fd103",
   "metadata": {
    "id": "757fd103"
   },
   "source": [
    "# Анализ результатов <a id='3'></a>"
   ]
  },
  {
   "cell_type": "markdown",
   "id": "a62256d0",
   "metadata": {},
   "source": [
    "Лучший результат:\n",
    "\n",
    "- `RMSE`: 62932.88646155222\n",
    "- `MAE`: 46641.06278761675\n",
    "- `R2`: 0.6672970549709228\n",
    "\n",
    "Исходя из результатов, можно сделать вывод, что после кросс-валидации и подбора гиперпараметров модель линейной регрессии на всех доступных признаках продолжает показывать лучшие результаты по метрикам качества (`RMSE`, `MAE`, `R2`) по сравнению с моделью, использующей только количественные признаки. Это свидетельствует о том, что включение категориальных признаков помогает улучшить качество прогнозирования."
   ]
  }
 ],
 "metadata": {
  "ExecuteTimeLog": [
   {
    "duration": 643,
    "start_time": "2024-06-25T12:56:37.288Z"
   },
   {
    "duration": 190,
    "start_time": "2024-06-25T12:57:42.211Z"
   },
   {
    "duration": 2,
    "start_time": "2024-06-25T12:58:50.562Z"
   },
   {
    "duration": 13653,
    "start_time": "2024-06-25T13:04:51.449Z"
   },
   {
    "duration": 7020,
    "start_time": "2024-06-25T13:08:02.386Z"
   },
   {
    "duration": 17,
    "start_time": "2024-06-25T13:09:10.935Z"
   },
   {
    "duration": 464,
    "start_time": "2024-06-25T13:09:25.043Z"
   },
   {
    "duration": 23,
    "start_time": "2024-06-25T13:09:41.109Z"
   },
   {
    "duration": 4027,
    "start_time": "2024-06-25T13:10:47.291Z"
   },
   {
    "duration": 511,
    "start_time": "2024-06-25T13:11:03.393Z"
   },
   {
    "duration": 178,
    "start_time": "2024-06-25T13:11:19.671Z"
   },
   {
    "duration": 4,
    "start_time": "2024-06-25T13:13:11.517Z"
   },
   {
    "duration": 784,
    "start_time": "2024-06-25T13:14:29.819Z"
   },
   {
    "duration": 5,
    "start_time": "2024-06-25T13:14:37.171Z"
   },
   {
    "duration": 2,
    "start_time": "2024-06-25T13:15:49.862Z"
   },
   {
    "duration": 1728,
    "start_time": "2024-06-25T13:16:00.063Z"
   },
   {
    "duration": 372,
    "start_time": "2024-06-25T13:33:39.629Z"
   },
   {
    "duration": 3,
    "start_time": "2024-06-25T13:33:46.670Z"
   },
   {
    "duration": 214,
    "start_time": "2024-06-25T13:35:03.085Z"
   },
   {
    "duration": 1124,
    "start_time": "2024-06-25T13:39:38.480Z"
   },
   {
    "duration": 10,
    "start_time": "2024-06-25T14:09:53.266Z"
   },
   {
    "duration": 3,
    "start_time": "2024-06-25T14:10:53.071Z"
   },
   {
    "duration": 4,
    "start_time": "2024-06-25T14:54:24.968Z"
   },
   {
    "duration": 6046,
    "start_time": "2024-06-25T14:54:34.864Z"
   },
   {
    "duration": 5,
    "start_time": "2024-06-25T14:57:43.401Z"
   },
   {
    "duration": 11,
    "start_time": "2024-06-25T14:57:44.061Z"
   },
   {
    "duration": 3,
    "start_time": "2024-06-25T14:58:05.238Z"
   },
   {
    "duration": 3309,
    "start_time": "2024-06-25T14:58:05.709Z"
   },
   {
    "duration": 3,
    "start_time": "2024-06-25T15:02:00.762Z"
   },
   {
    "duration": 3,
    "start_time": "2024-06-25T15:14:37.413Z"
   },
   {
    "duration": 843,
    "start_time": "2024-06-25T15:14:59.066Z"
   },
   {
    "duration": 6,
    "start_time": "2024-06-25T15:15:22.788Z"
   },
   {
    "duration": 412,
    "start_time": "2024-06-25T15:15:23.581Z"
   },
   {
    "duration": 673,
    "start_time": "2024-07-03T14:34:18.152Z"
   },
   {
    "duration": 325,
    "start_time": "2024-07-03T14:34:18.914Z"
   },
   {
    "duration": 2,
    "start_time": "2024-07-03T14:34:19.572Z"
   },
   {
    "duration": 14409,
    "start_time": "2024-07-03T14:34:22.608Z"
   },
   {
    "duration": 7319,
    "start_time": "2024-07-03T14:35:10.587Z"
   },
   {
    "duration": 3,
    "start_time": "2024-07-03T14:35:17.908Z"
   },
   {
    "duration": 4692,
    "start_time": "2024-07-03T14:35:17.912Z"
   },
   {
    "duration": 4,
    "start_time": "2024-07-03T14:35:22.607Z"
   },
   {
    "duration": 298,
    "start_time": "2024-07-03T14:35:22.613Z"
   },
   {
    "duration": 1519,
    "start_time": "2024-07-03T14:35:22.913Z"
   },
   {
    "duration": 369,
    "start_time": "2024-07-03T14:35:24.434Z"
   },
   {
    "duration": 3,
    "start_time": "2024-07-03T14:35:24.805Z"
   },
   {
    "duration": 5320,
    "start_time": "2024-07-03T14:35:24.809Z"
   },
   {
    "duration": 71,
    "start_time": "2024-07-03T14:35:30.131Z"
   },
   {
    "duration": 837,
    "start_time": "2024-07-03T14:35:30.203Z"
   },
   {
    "duration": 9,
    "start_time": "2024-07-03T14:54:21.175Z"
   },
   {
    "duration": 795,
    "start_time": "2024-07-03T14:54:21.714Z"
   },
   {
    "duration": 3,
    "start_time": "2024-07-03T14:58:05.511Z"
   },
   {
    "duration": 7,
    "start_time": "2024-07-03T14:59:32.948Z"
   },
   {
    "duration": 894,
    "start_time": "2024-07-03T14:59:33.433Z"
   },
   {
    "duration": 4,
    "start_time": "2024-07-03T15:01:09.631Z"
   },
   {
    "duration": 529,
    "start_time": "2024-07-03T15:01:09.987Z"
   },
   {
    "duration": 12,
    "start_time": "2024-07-03T15:02:41.443Z"
   },
   {
    "duration": 10,
    "start_time": "2024-07-03T15:03:08.180Z"
   },
   {
    "duration": 855,
    "start_time": "2024-07-03T15:03:14.392Z"
   },
   {
    "duration": 2,
    "start_time": "2024-07-03T15:22:18.098Z"
   },
   {
    "duration": 235,
    "start_time": "2024-07-03T15:30:21.967Z"
   },
   {
    "duration": 8,
    "start_time": "2024-07-03T15:31:54.730Z"
   },
   {
    "duration": 54,
    "start_time": "2024-07-03T15:32:18.768Z"
   },
   {
    "duration": 712,
    "start_time": "2024-07-03T15:32:24.719Z"
   },
   {
    "duration": 2275,
    "start_time": "2024-07-03T15:32:35.266Z"
   },
   {
    "duration": 8,
    "start_time": "2024-07-03T15:34:46.727Z"
   },
   {
    "duration": 609,
    "start_time": "2024-07-03T15:34:47.811Z"
   },
   {
    "duration": 1976,
    "start_time": "2024-07-03T15:34:48.952Z"
   },
   {
    "duration": 10,
    "start_time": "2024-07-03T15:43:10.825Z"
   },
   {
    "duration": 371,
    "start_time": "2024-07-03T15:43:11.342Z"
   },
   {
    "duration": 2126,
    "start_time": "2024-07-03T15:43:11.779Z"
   },
   {
    "duration": 8,
    "start_time": "2024-07-03T15:45:13.288Z"
   },
   {
    "duration": 359,
    "start_time": "2024-07-03T15:45:13.972Z"
   },
   {
    "duration": 1969,
    "start_time": "2024-07-03T15:45:14.601Z"
   },
   {
    "duration": 14,
    "start_time": "2024-07-03T15:48:16.976Z"
   },
   {
    "duration": 414,
    "start_time": "2024-07-03T15:48:17.443Z"
   },
   {
    "duration": 7,
    "start_time": "2024-07-03T15:48:17.862Z"
   },
   {
    "duration": 8,
    "start_time": "2024-07-03T15:48:33.624Z"
   },
   {
    "duration": 253,
    "start_time": "2024-07-03T15:48:33.955Z"
   },
   {
    "duration": 7,
    "start_time": "2024-07-03T15:48:34.283Z"
   },
   {
    "duration": 179,
    "start_time": "2024-07-03T15:49:00.996Z"
   },
   {
    "duration": 340,
    "start_time": "2024-07-03T15:49:11.915Z"
   },
   {
    "duration": 8,
    "start_time": "2024-07-03T15:49:27.850Z"
   },
   {
    "duration": 233,
    "start_time": "2024-07-03T15:49:28.427Z"
   },
   {
    "duration": 2069,
    "start_time": "2024-07-03T15:49:29.120Z"
   },
   {
    "duration": 6,
    "start_time": "2024-07-03T16:11:44.980Z"
   },
   {
    "duration": 111,
    "start_time": "2024-07-03T16:12:16.273Z"
   },
   {
    "duration": 3,
    "start_time": "2024-07-03T16:16:38.571Z"
   },
   {
    "duration": 4821,
    "start_time": "2024-07-03T16:17:09.027Z"
   },
   {
    "duration": 7,
    "start_time": "2024-07-03T16:25:57.753Z"
   },
   {
    "duration": 3636,
    "start_time": "2024-07-03T16:26:18.259Z"
   },
   {
    "duration": 3361,
    "start_time": "2024-07-03T16:32:37.147Z"
   },
   {
    "duration": 4,
    "start_time": "2024-07-03T16:33:06.925Z"
   },
   {
    "duration": 187,
    "start_time": "2024-07-03T16:33:13.218Z"
   },
   {
    "duration": 2350,
    "start_time": "2024-07-03T16:33:55.212Z"
   },
   {
    "duration": 205,
    "start_time": "2024-07-03T16:33:59.432Z"
   },
   {
    "duration": 386,
    "start_time": "2024-07-03T16:38:13.949Z"
   },
   {
    "duration": 3,
    "start_time": "2024-07-03T16:38:14.831Z"
   },
   {
    "duration": 1136,
    "start_time": "2024-07-03T16:38:15.293Z"
   },
   {
    "duration": 196,
    "start_time": "2024-07-03T16:38:16.431Z"
   },
   {
    "duration": 5,
    "start_time": "2024-07-03T16:38:16.629Z"
   },
   {
    "duration": 3420,
    "start_time": "2024-07-03T16:38:19.696Z"
   },
   {
    "duration": 5,
    "start_time": "2024-07-03T16:39:01.985Z"
   },
   {
    "duration": 419,
    "start_time": "2024-07-03T16:39:02.609Z"
   },
   {
    "duration": 7,
    "start_time": "2024-07-03T16:39:04.021Z"
   },
   {
    "duration": 2,
    "start_time": "2024-07-03T16:39:05.634Z"
   },
   {
    "duration": 14,
    "start_time": "2024-07-03T16:39:08.516Z"
   },
   {
    "duration": 466,
    "start_time": "2024-07-03T16:39:08.964Z"
   },
   {
    "duration": 2027,
    "start_time": "2024-07-03T16:39:09.431Z"
   },
   {
    "duration": 5,
    "start_time": "2024-07-03T16:39:12.145Z"
   },
   {
    "duration": 2347,
    "start_time": "2024-07-03T16:39:18.773Z"
   },
   {
    "duration": 1610,
    "start_time": "2024-07-03T16:47:11.159Z"
   },
   {
    "duration": 237,
    "start_time": "2024-07-03T16:47:12.801Z"
   },
   {
    "duration": 3,
    "start_time": "2024-07-03T16:50:33.579Z"
   },
   {
    "duration": 242,
    "start_time": "2024-07-03T16:50:34.088Z"
   },
   {
    "duration": 3,
    "start_time": "2024-07-03T16:50:34.332Z"
   },
   {
    "duration": 807,
    "start_time": "2024-07-03T16:50:34.527Z"
   },
   {
    "duration": 143,
    "start_time": "2024-07-03T16:50:35.336Z"
   },
   {
    "duration": 3,
    "start_time": "2024-07-03T16:50:35.481Z"
   },
   {
    "duration": 2365,
    "start_time": "2024-07-03T16:50:35.675Z"
   },
   {
    "duration": 63,
    "start_time": "2024-07-03T16:50:38.042Z"
   },
   {
    "duration": 345,
    "start_time": "2024-07-03T16:50:38.106Z"
   },
   {
    "duration": 13,
    "start_time": "2024-07-03T16:50:38.455Z"
   },
   {
    "duration": 3,
    "start_time": "2024-07-03T16:50:38.469Z"
   },
   {
    "duration": 14,
    "start_time": "2024-07-03T16:50:39.612Z"
   },
   {
    "duration": 409,
    "start_time": "2024-07-03T16:50:40.005Z"
   },
   {
    "duration": 2029,
    "start_time": "2024-07-03T16:50:40.415Z"
   },
   {
    "duration": 3,
    "start_time": "2024-07-03T16:50:44.982Z"
   },
   {
    "duration": 6,
    "start_time": "2024-07-03T16:50:47.581Z"
   },
   {
    "duration": 2854,
    "start_time": "2024-07-03T16:50:51.198Z"
   },
   {
    "duration": 2518,
    "start_time": "2024-07-03T16:50:59.913Z"
   },
   {
    "duration": 178,
    "start_time": "2024-07-03T16:51:03.250Z"
   },
   {
    "duration": 217,
    "start_time": "2024-07-03T16:53:13.136Z"
   },
   {
    "duration": 3,
    "start_time": "2024-07-03T16:53:13.367Z"
   },
   {
    "duration": 564,
    "start_time": "2024-07-03T16:53:13.564Z"
   },
   {
    "duration": 146,
    "start_time": "2024-07-03T16:53:14.129Z"
   },
   {
    "duration": 3,
    "start_time": "2024-07-03T16:53:14.276Z"
   },
   {
    "duration": 2239,
    "start_time": "2024-07-03T16:53:14.507Z"
   },
   {
    "duration": 4,
    "start_time": "2024-07-03T16:53:16.748Z"
   },
   {
    "duration": 378,
    "start_time": "2024-07-03T16:53:16.753Z"
   },
   {
    "duration": 8,
    "start_time": "2024-07-03T16:53:17.133Z"
   },
   {
    "duration": 60,
    "start_time": "2024-07-03T16:53:17.142Z"
   },
   {
    "duration": 13,
    "start_time": "2024-07-03T16:53:17.204Z"
   },
   {
    "duration": 330,
    "start_time": "2024-07-03T16:53:17.219Z"
   },
   {
    "duration": 2084,
    "start_time": "2024-07-03T16:53:17.550Z"
   },
   {
    "duration": 3,
    "start_time": "2024-07-03T16:53:19.635Z"
   },
   {
    "duration": 46,
    "start_time": "2024-07-03T16:53:19.640Z"
   },
   {
    "duration": 3173,
    "start_time": "2024-07-03T16:53:19.688Z"
   },
   {
    "duration": 2579,
    "start_time": "2024-07-03T16:53:30.925Z"
   },
   {
    "duration": 188,
    "start_time": "2024-07-03T16:53:37.669Z"
   },
   {
    "duration": 2152,
    "start_time": "2024-07-03T16:55:00.271Z"
   },
   {
    "duration": 2632,
    "start_time": "2024-07-03T16:55:35.884Z"
   },
   {
    "duration": 10,
    "start_time": "2024-07-03T17:10:01.462Z"
   },
   {
    "duration": 3573,
    "start_time": "2024-07-03T17:10:12.918Z"
   },
   {
    "duration": 64,
    "start_time": "2024-07-03T17:10:18.688Z"
   },
   {
    "duration": 23,
    "start_time": "2024-07-03T17:10:34.966Z"
   },
   {
    "duration": 12,
    "start_time": "2024-07-03T17:10:43.967Z"
   },
   {
    "duration": 4,
    "start_time": "2024-07-03T17:12:11.265Z"
   },
   {
    "duration": 11,
    "start_time": "2024-07-03T17:13:49.780Z"
   },
   {
    "duration": 356,
    "start_time": "2024-07-03T17:13:52.320Z"
   },
   {
    "duration": 4,
    "start_time": "2024-07-03T17:14:18.194Z"
   },
   {
    "duration": 300,
    "start_time": "2024-07-03T17:14:18.810Z"
   },
   {
    "duration": 6,
    "start_time": "2024-07-03T17:14:19.150Z"
   },
   {
    "duration": 714,
    "start_time": "2024-07-03T17:14:21.593Z"
   },
   {
    "duration": 85,
    "start_time": "2024-07-03T17:14:22.709Z"
   },
   {
    "duration": 3,
    "start_time": "2024-07-03T17:14:23.098Z"
   },
   {
    "duration": 2051,
    "start_time": "2024-07-03T17:14:23.655Z"
   },
   {
    "duration": 6,
    "start_time": "2024-07-03T17:14:26.494Z"
   },
   {
    "duration": 349,
    "start_time": "2024-07-03T17:14:26.959Z"
   },
   {
    "duration": 7,
    "start_time": "2024-07-03T17:14:28.133Z"
   },
   {
    "duration": 2,
    "start_time": "2024-07-03T17:14:28.986Z"
   },
   {
    "duration": 14,
    "start_time": "2024-07-03T17:14:29.712Z"
   },
   {
    "duration": 271,
    "start_time": "2024-07-03T17:14:30.148Z"
   },
   {
    "duration": 2410,
    "start_time": "2024-07-03T17:14:31.498Z"
   },
   {
    "duration": 4,
    "start_time": "2024-07-03T17:15:49.633Z"
   },
   {
    "duration": 9,
    "start_time": "2024-07-03T17:15:56.525Z"
   },
   {
    "duration": 2624,
    "start_time": "2024-07-03T17:15:56.860Z"
   },
   {
    "duration": 13,
    "start_time": "2024-07-03T17:16:06.610Z"
   },
   {
    "duration": 326,
    "start_time": "2024-07-03T17:16:06.934Z"
   },
   {
    "duration": 4954,
    "start_time": "2024-07-03T17:16:07.674Z"
   },
   {
    "duration": 4,
    "start_time": "2024-07-03T17:17:05.915Z"
   },
   {
    "duration": 226,
    "start_time": "2024-07-03T17:17:06.706Z"
   },
   {
    "duration": 2,
    "start_time": "2024-07-03T17:17:07.314Z"
   },
   {
    "duration": 596,
    "start_time": "2024-07-03T17:17:07.748Z"
   },
   {
    "duration": 87,
    "start_time": "2024-07-03T17:17:08.885Z"
   },
   {
    "duration": 3,
    "start_time": "2024-07-03T17:17:09.199Z"
   },
   {
    "duration": 2049,
    "start_time": "2024-07-03T17:17:09.584Z"
   },
   {
    "duration": 4,
    "start_time": "2024-07-03T17:17:11.635Z"
   },
   {
    "duration": 297,
    "start_time": "2024-07-03T17:17:11.640Z"
   },
   {
    "duration": 6,
    "start_time": "2024-07-03T17:17:12.077Z"
   },
   {
    "duration": 3,
    "start_time": "2024-07-03T17:17:12.805Z"
   },
   {
    "duration": 12,
    "start_time": "2024-07-03T17:17:13.640Z"
   },
   {
    "duration": 361,
    "start_time": "2024-07-03T17:17:14.181Z"
   },
   {
    "duration": 3250,
    "start_time": "2024-07-03T17:17:15.554Z"
   },
   {
    "duration": 2209,
    "start_time": "2024-07-03T17:23:00.554Z"
   },
   {
    "duration": 413,
    "start_time": "2024-07-03T17:23:27.239Z"
   },
   {
    "duration": 1965,
    "start_time": "2024-07-03T17:27:55.178Z"
   },
   {
    "duration": 5,
    "start_time": "2024-07-03T17:28:06.465Z"
   },
   {
    "duration": 2635,
    "start_time": "2024-07-03T17:28:14.684Z"
   },
   {
    "duration": 2747,
    "start_time": "2024-07-03T17:28:22.084Z"
   },
   {
    "duration": 1121,
    "start_time": "2024-07-03T17:29:27.826Z"
   },
   {
    "duration": 293,
    "start_time": "2024-07-03T19:54:16.197Z"
   },
   {
    "duration": 1049,
    "start_time": "2024-07-03T20:04:35.378Z"
   },
   {
    "duration": 16,
    "start_time": "2024-07-03T20:30:15.215Z"
   },
   {
    "duration": 2,
    "start_time": "2024-07-03T20:30:42.670Z"
   },
   {
    "duration": 27,
    "start_time": "2024-07-03T20:36:01.681Z"
   },
   {
    "duration": 4,
    "start_time": "2024-07-03T20:37:38.373Z"
   },
   {
    "duration": 5,
    "start_time": "2024-07-03T20:37:46.326Z"
   },
   {
    "duration": 12,
    "start_time": "2024-07-03T20:37:51.320Z"
   },
   {
    "duration": 2,
    "start_time": "2024-07-03T20:37:52.319Z"
   },
   {
    "duration": 2344,
    "start_time": "2024-07-03T20:37:53.009Z"
   },
   {
    "duration": 12,
    "start_time": "2024-07-03T20:41:17.415Z"
   },
   {
    "duration": 3,
    "start_time": "2024-07-03T20:41:17.801Z"
   },
   {
    "duration": 7,
    "start_time": "2024-07-03T20:41:19.851Z"
   },
   {
    "duration": 11,
    "start_time": "2024-07-03T20:41:52.710Z"
   },
   {
    "duration": 6810,
    "start_time": "2024-07-03T20:42:10.344Z"
   },
   {
    "duration": 4026,
    "start_time": "2024-07-03T20:45:00.556Z"
   },
   {
    "duration": 3,
    "start_time": "2024-07-03T20:47:51.420Z"
   },
   {
    "duration": 9,
    "start_time": "2024-07-03T20:51:24.230Z"
   },
   {
    "duration": 13,
    "start_time": "2024-07-03T20:52:19.542Z"
   },
   {
    "duration": 3,
    "start_time": "2024-07-03T20:52:20.344Z"
   },
   {
    "duration": 4093,
    "start_time": "2024-07-03T20:52:20.812Z"
   },
   {
    "duration": 2873,
    "start_time": "2024-07-03T20:52:29.302Z"
   },
   {
    "duration": 5,
    "start_time": "2024-07-03T20:52:37.284Z"
   },
   {
    "duration": 8,
    "start_time": "2024-07-03T20:52:41.514Z"
   },
   {
    "duration": 4839,
    "start_time": "2024-07-03T20:55:07.614Z"
   },
   {
    "duration": 2723,
    "start_time": "2024-07-03T20:56:27.538Z"
   },
   {
    "duration": 3,
    "start_time": "2024-07-03T20:56:38.750Z"
   },
   {
    "duration": 67518,
    "start_time": "2024-07-03T20:56:51.241Z"
   },
   {
    "duration": 13,
    "start_time": "2024-07-03T21:17:50.530Z"
   },
   {
    "duration": 3303,
    "start_time": "2024-07-03T21:20:33.158Z"
   },
   {
    "duration": 2539,
    "start_time": "2024-07-03T21:26:15.853Z"
   },
   {
    "duration": 2042,
    "start_time": "2024-07-03T21:30:26.120Z"
   },
   {
    "duration": 50639,
    "start_time": "2024-07-03T21:35:12.300Z"
   },
   {
    "duration": 1482,
    "start_time": "2024-07-03T21:37:00.975Z"
   },
   {
    "duration": 2760,
    "start_time": "2024-07-03T21:39:03.431Z"
   },
   {
    "duration": 1874,
    "start_time": "2024-07-03T21:39:42.484Z"
   },
   {
    "duration": 3,
    "start_time": "2024-07-03T21:40:47.416Z"
   },
   {
    "duration": 2253,
    "start_time": "2024-07-03T21:40:48.489Z"
   },
   {
    "duration": 54154,
    "start_time": "2024-07-03T21:40:55.432Z"
   },
   {
    "duration": 1454,
    "start_time": "2024-07-03T21:42:22.121Z"
   },
   {
    "duration": 2006,
    "start_time": "2024-07-03T21:47:27.714Z"
   },
   {
    "duration": 1998,
    "start_time": "2024-07-03T21:48:06.782Z"
   },
   {
    "duration": 1183,
    "start_time": "2024-07-03T22:06:36.871Z"
   },
   {
    "duration": 4,
    "start_time": "2024-07-03T22:06:39.265Z"
   },
   {
    "duration": 2,
    "start_time": "2024-07-03T22:06:39.921Z"
   },
   {
    "duration": 14420,
    "start_time": "2024-07-03T22:06:50.120Z"
   },
   {
    "duration": 7697,
    "start_time": "2024-07-03T22:07:04.542Z"
   },
   {
    "duration": 3,
    "start_time": "2024-07-03T22:07:12.240Z"
   },
   {
    "duration": 4478,
    "start_time": "2024-07-03T22:07:12.244Z"
   },
   {
    "duration": 486,
    "start_time": "2024-07-03T22:07:16.723Z"
   },
   {
    "duration": 3,
    "start_time": "2024-07-03T22:07:17.210Z"
   },
   {
    "duration": 5520,
    "start_time": "2024-07-03T22:07:17.214Z"
   },
   {
    "duration": 3,
    "start_time": "2024-07-03T22:07:22.802Z"
   },
   {
    "duration": 1212,
    "start_time": "2024-07-03T22:07:22.807Z"
   },
   {
    "duration": 12,
    "start_time": "2024-07-03T22:07:24.022Z"
   },
   {
    "duration": 12,
    "start_time": "2024-07-03T22:07:24.101Z"
   },
   {
    "duration": 923,
    "start_time": "2024-07-03T22:07:24.115Z"
   },
   {
    "duration": 2010,
    "start_time": "2024-07-03T22:07:25.039Z"
   },
   {
    "duration": 5,
    "start_time": "2024-07-03T22:07:27.051Z"
   },
   {
    "duration": 7150,
    "start_time": "2024-07-03T22:07:27.057Z"
   },
   {
    "duration": 3714,
    "start_time": "2024-07-03T22:07:34.208Z"
   },
   {
    "duration": 3695,
    "start_time": "2024-07-03T22:07:37.924Z"
   },
   {
    "duration": 320,
    "start_time": "2024-07-03T22:07:41.620Z"
   },
   {
    "duration": 97,
    "start_time": "2024-07-03T22:08:16.483Z"
   },
   {
    "duration": 3,
    "start_time": "2024-07-03T22:08:22.972Z"
   },
   {
    "duration": 8688,
    "start_time": "2024-07-03T22:08:24.218Z"
   },
   {
    "duration": 78815,
    "start_time": "2024-07-03T22:08:45.115Z"
   },
   {
    "duration": 3401,
    "start_time": "2024-07-03T22:10:03.932Z"
   },
   {
    "duration": 3181,
    "start_time": "2024-07-03T22:10:12.624Z"
   },
   {
    "duration": 2541,
    "start_time": "2024-07-03T22:10:16.574Z"
   },
   {
    "duration": 1536,
    "start_time": "2024-07-04T09:19:16.281Z"
   },
   {
    "duration": 4,
    "start_time": "2024-07-04T09:19:17.819Z"
   },
   {
    "duration": 16894,
    "start_time": "2024-07-04T09:19:17.825Z"
   },
   {
    "duration": 10192,
    "start_time": "2024-07-04T09:19:34.722Z"
   },
   {
    "duration": 4,
    "start_time": "2024-07-04T09:19:44.916Z"
   },
   {
    "duration": 6384,
    "start_time": "2024-07-04T09:19:44.922Z"
   },
   {
    "duration": 592,
    "start_time": "2024-07-04T09:19:51.308Z"
   },
   {
    "duration": 6,
    "start_time": "2024-07-04T09:19:51.908Z"
   },
   {
    "duration": 7609,
    "start_time": "2024-07-04T09:19:51.917Z"
   },
   {
    "duration": 69,
    "start_time": "2024-07-04T09:19:59.528Z"
   },
   {
    "duration": 1716,
    "start_time": "2024-07-04T09:19:59.603Z"
   },
   {
    "duration": 82,
    "start_time": "2024-07-04T09:20:01.321Z"
   },
   {
    "duration": 17,
    "start_time": "2024-07-04T09:20:01.406Z"
   },
   {
    "duration": 1772,
    "start_time": "2024-07-04T09:20:01.426Z"
   },
   {
    "duration": 2889,
    "start_time": "2024-07-04T09:20:03.200Z"
   },
   {
    "duration": 9,
    "start_time": "2024-07-04T09:20:06.091Z"
   },
   {
    "duration": 8694,
    "start_time": "2024-07-04T09:20:06.102Z"
   },
   {
    "duration": 5018,
    "start_time": "2024-07-04T09:20:14.808Z"
   },
   {
    "duration": 4930,
    "start_time": "2024-07-04T09:20:19.827Z"
   },
   {
    "duration": 147,
    "start_time": "2024-07-04T09:20:24.760Z"
   },
   {
    "duration": 7,
    "start_time": "2024-07-04T09:20:24.909Z"
   },
   {
    "duration": 12485,
    "start_time": "2024-07-04T09:20:24.918Z"
   },
   {
    "duration": 105509,
    "start_time": "2024-07-04T09:20:37.404Z"
   },
   {
    "duration": 4487,
    "start_time": "2024-07-04T09:22:22.915Z"
   },
   {
    "duration": 6094,
    "start_time": "2024-07-04T09:22:27.408Z"
   },
   {
    "duration": 5098,
    "start_time": "2024-07-04T09:22:33.504Z"
   },
   {
    "duration": 535,
    "start_time": "2024-07-04T09:22:38.604Z"
   }
  ],
  "colab": {
   "name": "PySparkSprint.ipynb",
   "provenance": []
  },
  "kernelspec": {
   "display_name": "Python 3 (ipykernel)",
   "language": "python",
   "name": "python3"
  },
  "language_info": {
   "codemirror_mode": {
    "name": "ipython",
    "version": 3
   },
   "file_extension": ".py",
   "mimetype": "text/x-python",
   "name": "python",
   "nbconvert_exporter": "python",
   "pygments_lexer": "ipython3",
   "version": "3.10.9"
  },
  "toc": {
   "base_numbering": 1,
   "nav_menu": {},
   "number_sections": true,
   "sideBar": true,
   "skip_h1_title": true,
   "title_cell": "Table of Contents",
   "title_sidebar": "Contents",
   "toc_cell": false,
   "toc_position": {},
   "toc_section_display": true,
   "toc_window_display": false
  }
 },
 "nbformat": 4,
 "nbformat_minor": 5
}
